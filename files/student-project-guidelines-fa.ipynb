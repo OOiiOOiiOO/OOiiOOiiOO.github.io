{
 "cells": [
  {
   "cell_type": "markdown",
   "id": "08388136",
   "metadata": {},
   "source": [
    "# راهنمای پژوهش و پروژه‌ها — Jupyter Notebook Template\n",
    "\n",
    "**سایت درس:** Student Effort / راهنمای پژوهش و پروژه‌ها  \n",
    "**نویسنده:** _Your Name (Student)_; **مدرس:** _Mohammad Mahdi Khorsand Aalam_  \n",
    "**تاریخ:** 2025-09-04\n",
    "\n",
    "> از این نوت‌بوک به عنوان الگوی رسمی استفاده کنید to submit your coursework, projects and research reports.  \n",
    "> Keep everything **reproducible**, **well-documented**, and **easy to review**.\n",
    "\n",
    "---\n"
   ]
  },
  {
   "cell_type": "markdown",
   "id": "75cbae2b",
   "metadata": {},
   "source": [
    "## چگونه از این نوت‌بوک استفاده کنیم\n",
    "\n",
    "1. Fill in the **مشخصات پروژه** below.\n",
    "2. Write your report using **Markdown** cells; put Python code in **Code** cells.\n",
    "3. Add math with LaTeX using `\\( ... \\)` for inline and `$$ ... $$` for display.\n",
    "4. Keep data files inside a local `data/` folder and figures in `figures/`.\n",
    "5. Save the notebook as `lastname_project_title.ipynb` and submit as instructed.\n",
    "6. Push the notebook to GitHub (or the course repo) and share a rendered link via **nbviewer**.\n",
    "\n",
    "---\n"
   ]
  },
  {
   "cell_type": "markdown",
   "id": "f83e179d",
   "metadata": {},
   "source": [
    "## مشخصات پروژه (Fill Me)\n",
    "\n",
    "- **عنوان:** _e.g., Detecting Pneumonia from X-ray Images_\n",
    "- **درس:** _e.g., Artificial Intelligence (Spring 2025)_\n",
    "- **دانشجو:** _Full name, student ID_\n",
    "- **ایمیل:** _your@university.edu_\n",
    "- **همکاران:** _names (if any)_\n",
    "- **چکیده:** _2–3 sentences about your goal and method._\n",
    "- **کلیدواژه‌ها:** _e.g., classification, CNN, medical imaging_\n",
    "- **مجموعه داده:** _Name, source/URL, license_\n",
    "- **محیط اجرا:** _Python 3.x, libraries (numpy/pandas/matplotlib/...)_\n",
    "- **نحوه اجرا:** _Short steps to reproduce all results_\n"
   ]
  },
  {
   "cell_type": "markdown",
   "id": "d48ef59d",
   "metadata": {},
   "source": [
    "## مبانی مارک‌داون (Cheat Sheet)\n",
    "\n",
    "### سرفصل‌ها\n",
    "Use `#` signs:\n",
    "```\n",
    "# H1\n",
    "## H2\n",
    "### H3\n",
    "```\n",
    "### تأکید\n",
    "```\n",
    "*italic*  _italic_\n",
    "**bold**  __bold__\n",
    "`inline code`\n",
    "```\n",
    "\n",
    "### لیست‌ها\n",
    "- Item 1\n",
    "  - Sub-item\n",
    "- Item 2\n",
    "\n",
    "1. First\n",
    "2. Second\n",
    "   1. Sub-numbered\n",
    "\n",
    "### خط افقی\n",
    "Type three dashes:\n",
    "```\n",
    "---\n",
    "```\n",
    "\n",
    "### لینک‌ها و تصاویر\n",
    "```\n",
    "[OpenAI](https://openai.com)\n",
    "![Alt text](figures/example.png)\n",
    "```\n",
    "\n",
    "### نقل‌قول‌ها\n",
    "```\n",
    "> This is a quoted idea or definition.\n",
    "```\n",
    "\n",
    "### جدول‌ها\n",
    "```\n",
    "| Name | Score |\n",
    "|------|------:|\n",
    "| Alice|  90   |\n",
    "| Bob  |  82   |\n",
    "```\n",
    "\n",
    "> Tip: You can mix **Markdown** and math in the same cell.\n"
   ]
  },
  {
   "cell_type": "markdown",
   "id": "07ef54ac",
   "metadata": {},
   "source": [
    "## Math with LaTeX\n",
    "\n",
    "Use `\\( ... \\)` for inline and `$$ ... $$` for display math.\n",
    "\n",
    "Inline example: \\( y = f\\big(\\sum_i w_i x_i + b\\big) \\).\n",
    "\n",
    "Block examples:\n",
    "$$\n",
    "\\hat{y} = \\sigma\\!\\big(w^\\top x + b\\big), \\qquad \\sigma(z) = \\frac{1}{1 + e^{-z}} \\, .\n",
    "$$\n",
    "\n",
    "Gradient of Mean Squared Error (MSE) for a linear model:\n",
    "$$\n",
    "\\mathcal{L} = \\frac{1}{N}\\sum_{i=1}^N \\big(y_i - \\hat{y}_i\\big)^2, \\quad \n",
    "\\nabla_{w}\\,\\mathcal{L} = -\\frac{2}{N}\\sum_{i=1}^N \\big(y_i - \\hat{y}_i\\big)\\,x_i \\, .\n",
    "$$\n",
    "\n",
    "Matrix and argmin:\n",
    "$$\n",
    "W^{*} = \\operatorname*{arg\\,min}_{W}\\ \\|XW - Y\\|_{F}^{2} + \\lambda \\,\\|W\\|_{2}^{2} \\, .\n",
    "$$\n",
    "\n",
    "> **Important:** In this course site we use `\\( ... \\)` and `$$ ... $$`.\n"
   ]
  },
  {
   "cell_type": "code",
   "execution_count": null,
   "id": "898ba7c8",
   "metadata": {},
   "outputs": [],
   "source": [
    "# === Setup: libraries & folders ===\n",
    "import os, sys, math, random, json, pathlib\n",
    "import numpy as np\n",
    "import pandas as pd\n",
    "import matplotlib.pyplot as plt\n",
    "\n",
    "# Reproducibility\n",
    "SEED = 42\n",
    "random.seed(SEED)\n",
    "np.random.seed(SEED)\n",
    "\n",
    "# Create standard folders if missing\n",
    "pathlib.Path(\"data\").mkdir(exist_ok=True)\n",
    "pathlib.Path(\"figures\").mkdir(exist_ok=True)\n",
    "\n",
    "print(\"Python:\", sys.version.split()[0])\n",
    "print(\"NumPy:\", np.__version__)\n",
    "print(\"Pandas:\", pd.__version__)\n",
    "print(\"Matplotlib:\", plt.matplotlib.__version__)\n"
   ]
  },
  {
   "cell_type": "code",
   "execution_count": null,
   "id": "d1c35c9e",
   "metadata": {},
   "outputs": [],
   "source": [
    "# === Create a tiny example dataset (if it doesn't exist) ===\n",
    "import pandas as pd\n",
    "import numpy as np\n",
    "import os\n",
    "\n",
    "csv_path = \"data/sample_scores.csv\"\n",
    "if not os.path.exists(csv_path):\n",
    "    rng = np.random.default_rng(42)\n",
    "    names = [\"Alice\",\"Bob\",\"Cathy\",\"Dan\",\"Eli\",\"Fae\",\"Gus\",\"Hana\"]\n",
    "    scores = rng.integers(60, 100, size=len(names))\n",
    "    df = pd.DataFrame({\"name\": names, \"score\": scores})\n",
    "    df.to_csv(csv_path, index=False)\n",
    "    print(\"Created:\", csv_path)\n",
    "else:\n",
    "    print(\"Found existing:\", csv_path)\n"
   ]
  },
  {
   "cell_type": "code",
   "execution_count": null,
   "id": "2173ea9e",
   "metadata": {},
   "outputs": [],
   "source": [
    "# === Load & preview the dataset ===\n",
    "import pandas as pd\n",
    "df = pd.read_csv(\"data/sample_scores.csv\")\n",
    "df.head()\n"
   ]
  },
  {
   "cell_type": "code",
   "execution_count": null,
   "id": "ceef2a5c",
   "metadata": {},
   "outputs": [],
   "source": [
    "# === Basic visualization with matplotlib ===\n",
    "import matplotlib.pyplot as plt\n",
    "\n",
    "plt.figure(figsize=(6,4))\n",
    "plt.bar(df[\"name\"], df[\"score\"])\n",
    "plt.title(\"Sample Scores\")\n",
    "plt.xlabel(\"Student\")\n",
    "plt.ylabel(\"Score\")\n",
    "plt.tight_layout()\n",
    "fig_path = \"figures/sample_scores.png\"\n",
    "plt.savefig(fig_path, dpi=150)\n",
    "plt.show()\n",
    "\n",
    "print(\"Saved figure to:\", fig_path)\n"
   ]
  },
  {
   "cell_type": "markdown",
   "id": "3e02cc61",
   "metadata": {},
   "source": [
    "### Embed Saved Figure\n",
    "\n",
    "The plot saved in the previous cell can be embedded in any Markdown cell like this:\n",
    "\n",
    "```markdown\n",
    "![Scores Bar Chart](figures/sample_scores.png)\n",
    "```\n",
    "\n",
    "![Scores Bar Chart](figures/sample_scores.png)\n"
   ]
  },
  {
   "cell_type": "code",
   "execution_count": null,
   "id": "74fe0b6d",
   "metadata": {},
   "outputs": [],
   "source": [
    "def normalize_scores(scores):\n",
    "    \"\"\"\n",
    "    Normalize an array of scores to [0, 1].\n",
    "\n",
    "    Parameters\n",
    "    ----------\n",
    "    scores : array-like of shape (n,)\n",
    "        Raw scores (numbers).\n",
    "\n",
    "    Returns\n",
    "    -------\n",
    "    np.ndarray of shape (n,)\n",
    "        Normalized scores in [0, 1].\n",
    "    \"\"\"\n",
    "    import numpy as np\n",
    "    arr = np.asarray(scores, dtype=float)\n",
    "    mn, mx = arr.min(), arr.max()\n",
    "    if mx == mn:\n",
    "        return np.zeros_like(arr)\n",
    "    return (arr - mn) / (mx - mn)\n",
    "\n",
    "# Quick tests\n",
    "import numpy as np\n",
    "test = np.array([10, 20, 30])\n",
    "norm = normalize_scores(test)\n",
    "print(\"Normalized:\", norm)\n",
    "assert np.isclose(norm.min(), 0.0)\n",
    "assert np.isclose(norm.max(), 1.0)\n"
   ]
  },
  {
   "cell_type": "markdown",
   "id": "f10b210a",
   "metadata": {},
   "source": [
    "## Reproducibility Checklist\n",
    "\n",
    "- Fix random seeds for NumPy/Python (done above).\n",
    "- Record library versions:\n",
    "  ```python\n",
    "  import sys, numpy, pandas, matplotlib\n",
    "  print(sys.version); print(numpy.__version__, pandas.__version__, matplotlib.__version__)\n",
    "  ```\n",
    "- Save a **`requirements.txt`**:\n",
    "  ```bash\n",
    "  pip freeze > requirements.txt\n",
    "  ```\n",
    "- Document exact dataset **source/URL**, commit ID (if using a repo), and any preprocessing steps.\n",
    "- Make the notebook runnable **top-to-bottom** without manual edits.\n"
   ]
  },
  {
   "cell_type": "code",
   "execution_count": null,
   "id": "9ff2e7ae",
   "metadata": {},
   "outputs": [],
   "source": [
    "# === Capture environment info ===\n",
    "import sys, platform\n",
    "print(\"Platform:\", platform.platform())\n",
    "print(\"Python:\", sys.version.replace(\"\\n\",\" \"))\n"
   ]
  },
  {
   "cell_type": "markdown",
   "id": "fa851d86",
   "metadata": {},
   "source": [
    "## Recommended Project Structure\n",
    "\n",
    "```\n",
    "your-project/\n",
    "├─ README.md\n",
    "├─ notebook.ipynb\n",
    "├─ data/\n",
    "│  └─ your_dataset.csv\n",
    "├─ figures/\n",
    "│  └─ example.png\n",
    "└─ requirements.txt\n",
    "```\n"
   ]
  },
  {
   "cell_type": "markdown",
   "id": "57ff8f60",
   "metadata": {},
   "source": [
    "## Citations & Academic Integrity\n",
    "\n",
    "- Cite every dataset, paper, and code you use or adapt.  \n",
    "- Examples (IEEE-like):\n",
    "  1. I. Goodfellow, Y. Bengio, and A. Courville, _Deep Learning_. MIT Press, 2016.\n",
    "  2. مجموعه داده: [UCI Machine Learning Repository](https://archive.ics.uci.edu/).\n",
    "- Add a **References** section at the end of your notebook.\n",
    "- If you adapt code, include a comment at the top of the cell with the source link and license.\n",
    "- Plagiarism will result in **zero credit** and disciplinary action.\n"
   ]
  },
  {
   "cell_type": "markdown",
   "id": "819b41c1",
   "metadata": {},
   "source": [
    "## Final Submission Checklist\n",
    "\n",
    "- [ ] Project header completed\n",
    "- [ ] Clear problem statement & objectives\n",
    "- [ ] Data source and license documented\n",
    "- [ ] Code runs top-to-bottom without errors\n",
    "- [ ] Figures saved to `figures/` and embedded\n",
    "- [ ] Math derivations (if any) are readable\n",
    "- [ ] Results interpreted and discussed\n",
    "- [ ] References included and properly formatted\n",
    "- [ ] `requirements.txt` provided (optional but recommended)\n"
   ]
  },
  {
   "cell_type": "markdown",
   "id": "a5366126",
   "metadata": {},
   "source": [
    "---\n",
    "\n",
    "**License:** You may reuse this template for academic/non‑commercial purposes with attribution to the course.\n",
    "\n",
    "> _Good luck and have fun building something meaningful!_ 🚀\n"
   ]
  },
  {
   "cell_type": "markdown",
   "id": "0de79b11",
   "metadata": {},
   "source": [
    "# Markdown Capabilities in Jupyter Notebooks\n",
    "This notebook provides a **comprehensive guide** to using Markdown effectively in Jupyter. Markdown allows you to format text, include equations, tables, images, and more.\n",
    "\n",
    "---"
   ]
  },
  {
   "cell_type": "markdown",
   "id": "b04e0d88",
   "metadata": {},
   "source": [
    "## 1. Headers\n",
    "You can create headers using the `#` symbol:\n",
    "\n",
    "# H1 Header\n",
    "## H2 Header\n",
    "### H3 Header\n",
    "#### H4 Header\n"
   ]
  },
  {
   "cell_type": "markdown",
   "id": "40e864d0",
   "metadata": {},
   "source": [
    "## 2. Text Formatting\n",
    "- **Bold text**: `**text**` → **text**\n",
    "- *Italic text*: `*text*` → *text*\n",
    "- ~~Strikethrough~~: `~~text~~` → ~~text~~\n",
    "- `Inline code`: `` `code` `` → `print('hello')`\n",
    "- Blockquote:\n",
    "> This is a blockquote example."
   ]
  },
  {
   "cell_type": "markdown",
   "id": "0de583db",
   "metadata": {},
   "source": [
    "## 3. لیست‌ها\n",
    "- Unordered list (with `-` or `*`):\n",
    "  - Item A\n",
    "  - Item B\n",
    "    - Sub-item\n",
    "\n",
    "1. Ordered list:\n",
    "   1. Step one\n",
    "   2. Step two\n"
   ]
  },
  {
   "cell_type": "markdown",
   "id": "2b9ded88",
   "metadata": {},
   "source": [
    "## 4. خط افقی\n",
    "Use three dashes:\n",
    "\n",
    "---"
   ]
  },
  {
   "cell_type": "markdown",
   "id": "6094f140",
   "metadata": {},
   "source": [
    "## 5. Links and Images\n",
    "- Link example: [Google](https://www.google.com)\n",
    "- Image example:\n",
    "\n",
    "![Sample Image](https://upload.wikimedia.org/wikipedia/commons/thumb/3/3f/Jupyter_logo.svg/320px-Jupyter_logo.svg.png)"
   ]
  },
  {
   "cell_type": "markdown",
   "id": "0763271d",
   "metadata": {},
   "source": [
    "## 6. جدول‌ها\n",
    "You can create tables using pipes (`|`) and dashes:\n",
    "\n",
    "| Name  | Score |\n",
    "|-------|-------|\n",
    "| Alice |  90   |\n",
    "| Bob   |  85   |\n"
   ]
  },
  {
   "cell_type": "markdown",
   "id": "ffe8ef9b",
   "metadata": {},
   "source": [
    "## 7. ریاضی با LaTeX\n",
    "Inline math: `\\( E = mc^2 \\)` → \\( E = mc^2 \\)\n",
    "\n",
    "Block math (use double `$$`):\n",
    "\n",
    "$$\n",
    "\\int_{0}^{\\infty} e^{-x} dx = 1\n",
    "$$"
   ]
  },
  {
   "cell_type": "markdown",
   "id": "25ac21ad",
   "metadata": {},
   "source": [
    "## 8. بلاک‌های کد با برجسته‌سازی\n",
    "Use triple backticks (```) with language specifier:\n",
    "\n",
    "```python\n",
    "def add(a, b):\n",
    "    return a + b\n",
    "print(add(2, 3))\n",
    "```\n",
    "\n",
    "```bash\n",
    "echo 'Hello World'\n",
    "```"
   ]
  },
  {
   "cell_type": "markdown",
   "id": "4bc74527",
   "metadata": {},
   "source": [
    "## 9. Task لیست‌ها\n",
    "- [x] Completed task\n",
    "- [ ] Pending task\n"
   ]
  },
  {
   "cell_type": "markdown",
   "id": "021912ba",
   "metadata": {},
   "source": [
    "## 10. قابلیت‌های پیشرفته\n",
    "Markdown in Jupyter also supports raw HTML.\n",
    "\n",
    "<div style='color: lightblue; font-weight: bold;'>\n",
    "This is a custom styled text block using HTML inside Markdown.\n",
    "</div>"
   ]
  },
  {
   "cell_type": "markdown",
   "id": "b917ac2e",
   "metadata": {},
   "source": []
  }
 ],
 "metadata": {
  "language_info": {
   "name": "python"
  }
 },
 "nbformat": 4,
 "nbformat_minor": 5
}
